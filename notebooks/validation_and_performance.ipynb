{
 "cells": [
  {
   "cell_type": "code",
   "execution_count": 1,
   "id": "13424158-6623-40ba-8f5c-9db0f1036162",
   "metadata": {},
   "outputs": [
    {
     "name": "stderr",
     "output_type": "stream",
     "text": [
      "2023-12-17 14:53:44.699202: I tensorflow/core/platform/cpu_feature_guard.cc:193] This TensorFlow binary is optimized with oneAPI Deep Neural Network Library (oneDNN) to use the following CPU instructions in performance-critical operations:  AVX2 AVX512F AVX512_VNNI FMA\n",
      "To enable them in other operations, rebuild TensorFlow with the appropriate compiler flags.\n",
      "2023-12-17 14:53:44.869983: I tensorflow/core/util/util.cc:169] oneDNN custom operations are on. You may see slightly different numerical results due to floating-point round-off errors from different computation orders. To turn them off, set the environment variable `TF_ENABLE_ONEDNN_OPTS=0`.\n",
      "2023-12-17 14:53:44.876102: W tensorflow/stream_executor/platform/default/dso_loader.cc:64] Could not load dynamic library 'libcudart.so.11.0'; dlerror: libcudart.so.11.0: cannot open shared object file: No such file or directory; LD_LIBRARY_PATH: /comm/swstack/core/anaconda3/2021.05/lib\n",
      "2023-12-17 14:53:44.876116: I tensorflow/stream_executor/cuda/cudart_stub.cc:29] Ignore above cudart dlerror if you do not have a GPU set up on your machine.\n",
      "2023-12-17 14:53:44.909065: E tensorflow/stream_executor/cuda/cuda_blas.cc:2981] Unable to register cuBLAS factory: Attempting to register factory for plugin cuBLAS when one has already been registered\n",
      "2023-12-17 14:53:45.793569: W tensorflow/stream_executor/platform/default/dso_loader.cc:64] Could not load dynamic library 'libnvinfer.so.7'; dlerror: libnvinfer.so.7: cannot open shared object file: No such file or directory; LD_LIBRARY_PATH: /comm/swstack/core/anaconda3/2021.05/lib\n",
      "2023-12-17 14:53:45.793657: W tensorflow/stream_executor/platform/default/dso_loader.cc:64] Could not load dynamic library 'libnvinfer_plugin.so.7'; dlerror: libnvinfer_plugin.so.7: cannot open shared object file: No such file or directory; LD_LIBRARY_PATH: /comm/swstack/core/anaconda3/2021.05/lib\n",
      "2023-12-17 14:53:45.793671: W tensorflow/compiler/tf2tensorrt/utils/py_utils.cc:38] TF-TRT Warning: Cannot dlopen some TensorRT libraries. If you would like to use Nvidia GPU with TensorRT, please make sure the missing libraries mentioned above are installed properly.\n"
     ]
    }
   ],
   "source": [
    "import os\n",
    "import sys\n",
    "sys.path.append('/home/lucajn/connect/source/profile_likelihoods')\n",
    "sys.path.append('/home/lucajn/connect/resources/montepython_public')\n",
    "import numpy as np\n",
    "import warnings\n",
    "import scipy.constants as conts\n",
    "import tensorflow as tf\n",
    "import pickle as pkl\n",
    "import matplotlib.pyplot as plt\n",
    "import pandas as pd\n",
    "import time\n",
    "from matplotlib.ticker import FuncFormatter\n",
    "from new_Spline import Spline_tri\n",
    "from classy import Class"
   ]
  },
  {
   "cell_type": "markdown",
   "id": "e28d2140-316e-42db-915f-0d5e91da8f33",
   "metadata": {},
   "source": [
    "TF_BAO CLASS"
   ]
  },
  {
   "cell_type": "code",
   "execution_count": 2,
   "id": "d285c7f5-305a-4979-8a72-c7da6b8e1916",
   "metadata": {
    "jupyter": {
     "source_hidden": true
    }
   },
   "outputs": [],
   "source": [
    "class TF_bao():\n",
    "\n",
    "    # Initialization routine\n",
    "    def __init__(self, model_name):\n",
    "\n",
    "        # Load CONNECT model\n",
    "        self.model = tf.keras.models.load_model(model_name, compile=False)\n",
    "        self.output_info = eval(self.model.get_raw_info().numpy().decode('utf-8'))\n",
    "\n",
    "        # Set path to datafile (Hardcoded paths would be avoided for general implementation)\n",
    "        self.data_directory = '/home/lucajn/connect/resources/montepython_public/data/'\n",
    "        self.file = 'bao_2012.txt'\n",
    "        self.rs_rescale = 153.017 / 149.0808 # From tf_bao.data file\n",
    "\n",
    "        # Define emulated data\n",
    "        self.all_z = np.array(self.output_info['z_bg'])\n",
    "        self.ang_idx = self.output_info['interval']['bg']['ang.diam.dist.'][:2]\n",
    "        self.hubble_idx = self.output_info['interval']['bg']['H [1/Mpc]'][:2]\n",
    "        self.rs_drag_idx = self.output_info['interval']['extra']['rs_drag'][0]\n",
    "\n",
    "        # Define array for values of z and data points\n",
    "        self.z = np.array([], 'float64')\n",
    "        self.data = np.array([], 'float64')\n",
    "        self.error = np.array([], 'float64')\n",
    "        self.type = np.array([], 'int')\n",
    "\n",
    "        # Read redshifts and data points\n",
    "        for line in open(os.path.join(self.data_directory, self.file), 'r'):\n",
    "            if (line.find('#') == -1):\n",
    "                self.z = np.append(self.z, float(line.split()[0]))\n",
    "                self.data = np.append(self.data, float(line.split()[1]))\n",
    "                self.error = np.append(self.error, float(line.split()[2]))\n",
    "                self.type = np.append(self.type, int(line.split()[3]))\n",
    "\n",
    "        # Spline\n",
    "        if set(self.all_z).intersection(self.z) != set(self.z):\n",
    "            S = Spline_tri(tf.constant(self.all_z, dtype=tf.float32), tf.constant(self.z, dtype=tf.float32))\n",
    "            self.spline = lambda x: S.do_spline(x)\n",
    "        else:\n",
    "            self.indices = np.searchsorted(self.all_z, self.z)\n",
    "            self.spline = lambda x: tf.gather(x, self.indices, axis=1)\n",
    "\n",
    "    @tf.function\n",
    "    def loglkl(self, x):\n",
    "        \n",
    "        # Define output\n",
    "        output = self.model(x[:,:])\n",
    "\n",
    "        # Calculations\n",
    "        hubble = self.spline(output[:, self.hubble_idx[0]:self.hubble_idx[1]])\n",
    "        da = self.spline(output[:, self.ang_idx[0]:self.ang_idx[1]])\n",
    "        dr = tf.divide(self.z, hubble)\n",
    "        dv = tf.pow(da * da * (1 + self.z) * (1 + self.z) * dr, 1. / 3.)\n",
    "        rs_drag = output[:,self.rs_drag_idx:self.rs_drag_idx+1]\n",
    "\n",
    "        # Initialize a tensor for the 'theo' values\n",
    "        theo = tf.zeros_like(self.z, dtype=tf.float32)\n",
    "        \n",
    "        # Handle the different types using boolean masks\n",
    "        mask_type3 = tf.math.equal(self.type, 3)\n",
    "        rs = rs_drag * self.rs_rescale\n",
    "        theo = tf.where(mask_type3, dv / rs, theo)\n",
    "        \n",
    "        mask_type4 = tf.math.equal(self.type, 4)\n",
    "        theo = tf.where(mask_type4, dv, theo)\n",
    "\n",
    "        # Compute chi2\n",
    "        chi2_values = ((theo - self.data) / self.error) ** 2\n",
    "        chi2 = tf.reduce_sum(chi2_values, 1, keepdims=True)[:,0]\n",
    "\n",
    "        # Compute ln(L)\n",
    "        lkl = -0.5 * chi2\n",
    "        \n",
    "        return lkl"
   ]
  },
  {
   "cell_type": "markdown",
   "id": "f5d46f44-5235-42c6-8108-3bc8813c11c1",
   "metadata": {},
   "source": [
    "TF_BAO_BOSS CLASS"
   ]
  },
  {
   "cell_type": "code",
   "execution_count": 3,
   "id": "3c5ba29a-65d4-43ff-9f3f-964bb1508dd6",
   "metadata": {
    "jupyter": {
     "source_hidden": true
    }
   },
   "outputs": [],
   "source": [
    "class TF_bao_boss():\n",
    "\n",
    "    # Initialization routine\n",
    "    def __init__(self, model_name):\n",
    "\n",
    "        # Load CONNECT model\n",
    "        self.model = tf.keras.models.load_model(model_name, compile=False)\n",
    "        self.output_info = eval(self.model.get_raw_info().numpy().decode('utf-8'))\n",
    "        \n",
    "        # Set path to datafile (Hardcoded paths would be avoided for general implementation)\n",
    "        self.data_directory = '/home/lucajn/connect/resources/montepython_public/data/'\n",
    "        self.file = 'bao_2014.txt'\n",
    "        \n",
    "        # Define emulated data\n",
    "        self.all_z = np.array(self.output_info['z_bg'])\n",
    "        self.ang_idx = self.output_info['interval']['bg']['ang.diam.dist.'][:2]\n",
    "        self.hubble_idx = self.output_info['interval']['bg']['H [1/Mpc]'][:2]\n",
    "        self.rs_drag_idx = self.output_info['interval']['extra']['rs_drag'][0]\n",
    "        \n",
    "        # Define array for values of z and data points\n",
    "        self.z = np.array([], 'float64')\n",
    "        self.data = np.array([], 'float64')\n",
    "        self.error = np.array([], 'float64')\n",
    "        self.type = np.array([], 'int')\n",
    "\n",
    "        # Read redshifts and data points\n",
    "        with open(os.path.join(self.data_directory, self.file), 'r') as filein:\n",
    "            for line in filein:\n",
    "                if line.strip() and line.find('#') == -1:\n",
    "                    # the first entry of the line is the identifier\n",
    "                    this_line = line.split()\n",
    "                    # insert into array if this id is not manually excluded\n",
    "                    if not hasattr(self, 'exclude') or self.exclude == None or not this_line[0] in self.exclude:\n",
    "                        self.z = np.append(self.z, float(this_line[1]))\n",
    "                        self.data = np.append(self.data, float(this_line[2]))\n",
    "                        self.error = np.append(self.error, float(this_line[3]))\n",
    "                        self.type = np.append(self.type, int(this_line[4]))\n",
    "\n",
    "        # Spline\n",
    "        if set(self.all_z).intersection(self.z) != set(self.z):\n",
    "            S = Spline_tri(tf.constant(self.all_z, dtype=tf.float32), tf.constant(self.z, dtype=tf.float32))\n",
    "            self.spline = lambda x: S.do_spline(x)\n",
    "        else:\n",
    "            self.indices = np.searchsorted(self.all_z, self.z)\n",
    "            self.spline = lambda x: tf.gather(x, self.indices, axis=1)\n",
    "\n",
    "    @tf.function\n",
    "    def loglkl(self, x):\n",
    "\n",
    "        # Define output\n",
    "        output = self.model(x[:,:])\n",
    "        \n",
    "        # Calculations\n",
    "        hubble = self.spline(output[:, self.hubble_idx[0]:self.hubble_idx[1]])\n",
    "        da = self.spline(output[:, self.ang_idx[0]:self.ang_idx[1]])\n",
    "        dr = tf.divide(self.z, hubble)\n",
    "        dv = tf.pow(da * da * (1 + self.z) * (1 + self.z) * dr, 1. / 3.)\n",
    "        rs_drag = output[:,self.rs_drag_idx:self.rs_drag_idx+1]\n",
    "\n",
    "        # Initialize a tensor for the 'theo' values\n",
    "        theo = tf.zeros_like(self.z, dtype=tf.float32)\n",
    "\n",
    "        # Handle the different types using boolean masks and compute theo accordingly\n",
    "\n",
    "        mask_type3 = tf.math.equal(self.type, 3)\n",
    "        rs = rs_drag \n",
    "        theo = tf.where(mask_type3, dv / rs, theo)\n",
    "\n",
    "        mask_type4 = tf.math.equal(self.type, 4)\n",
    "        theo = tf.where(mask_type4, dv, theo)\n",
    "\n",
    "        mask_type5 = tf.math.equal(self.type, 5)\n",
    "        theo = tf.where(mask_type5, da / rs, theo)\n",
    "\n",
    "        mask_type6 = tf.math.equal(self.type, 6)\n",
    "        theo = tf.where(mask_type6, 1. / hubble / rs, theo)\n",
    "\n",
    "        mask_type7 = tf.math.equal(self.type, 7)\n",
    "        theo = tf.where(mask_type7, rs / dv, theo)\n",
    "\n",
    "        # Compute chi2\n",
    "        chi2_values = ((theo - self.data) / self.error) ** 2\n",
    "        chi2 = tf.reduce_sum(chi2_values, 1, keepdims=True)[:,0]\n",
    "\n",
    "        # Compute ln(L)\n",
    "        lkl = -0.5 * chi2\n",
    "\n",
    "        return lkl"
   ]
  },
  {
   "cell_type": "markdown",
   "id": "1cd4c1d6-3500-4bf8-9aa0-d5317aed1c7f",
   "metadata": {},
   "source": [
    "TF_BAO_BOSS_DR12 CLASS"
   ]
  },
  {
   "cell_type": "code",
   "execution_count": 4,
   "id": "5df4e26a-b7a8-4eb3-a40c-135313ae7257",
   "metadata": {
    "jupyter": {
     "source_hidden": true
    }
   },
   "outputs": [],
   "source": [
    "class TF_bao_boss_dr12():\n",
    "\n",
    "    # Initialization routine\n",
    "    def __init__(self, model_name):\n",
    "\n",
    "        # Load CONNECT model\n",
    "        self.model = tf.keras.models.load_model(model_name, compile=False)\n",
    "        self.output_info = eval(self.model.get_raw_info().numpy().decode('utf-8'))\n",
    "        self.rs_rescale, self.rd_fid_in_Mpc = 1. , 147.78\n",
    "\n",
    "        # Define emulated data\n",
    "        self.all_z = np.array(self.output_info['z_bg'])\n",
    "        self.ang_idx = self.output_info['interval']['bg']['ang.diam.dist.'][:2]\n",
    "        self.hubble_idx = self.output_info['interval']['bg']['H [1/Mpc]'][:2]\n",
    "        self.rs_drag_idx = self.output_info['interval']['extra']['rs_drag'][0]\n",
    "\n",
    "        # Set path to datafile (Hardcoded paths would be avoided for general implementation)\n",
    "        self.data_directory = '/home/lucajn/connect/resources/montepython_public/data/COMBINEDDR12_BAO_consensus_dM_Hz/'\n",
    "        self.data_file = 'BAO_consensus_results_dM_Hz.txt'\n",
    "        self.cov_file = 'BAO_consensus_covtot_dM_Hz.txt'\n",
    "\n",
    "        data = np.loadtxt(os.path.join(self.data_directory, self.data_file), skiprows=1, usecols=(0,2))\n",
    "        self.z = np.array(list(set(data[:,0])))\n",
    "        self.DM_rdfid_by_rd_in_Mpc, self.H_rd_by_rdfid_in_km_per_s_per_Mpc = np.reshape(data[:,1], [3,2]).T\n",
    "\n",
    "        # Read covariance matrix\n",
    "        self.cov_data = np.loadtxt(os.path.join(self.data_directory, self.cov_file))\n",
    "        self.inv_cov_data = tf.cast(tf.linalg.inv(self.cov_data), tf.float32)\n",
    "\n",
    "        # Spline\n",
    "        if set(self.all_z).intersection(self.z) != set(self.z):\n",
    "            S = Spline_tri(tf.constant(self.all_z, dtype=tf.float32), tf.constant(self.z, dtype=tf.float32))\n",
    "            self.spline = lambda x: S.do_spline(x)\n",
    "        else:\n",
    "            self.indices = np.searchsorted(self.all_z, self.z)\n",
    "            self.spline = lambda x: tf.gather(x, self.indices, axis=1)\n",
    "\n",
    "    # compute likelihood\n",
    "    @tf.function\n",
    "    def loglkl(self, x):\n",
    "        # Define output\n",
    "        output = self.model(x[:,:])\n",
    "        \n",
    "        # Compute comoving angular diameter distance D_M = (1 + z) * D_A and Hubble values for each z\n",
    "        hubble = self.spline(output[:, self.hubble_idx[0]:self.hubble_idx[1]])\n",
    "        da = self.spline(output[:, self.ang_idx[0]:self.ang_idx[1]])\n",
    "        DM_at_z_values = da * (1. + self.z)\n",
    "        H_at_z_values = hubble * conts.c / 1000.0\n",
    "        rs_drag = output[:,self.rs_drag_idx:self.rs_drag_idx+1]\n",
    "\n",
    "        # Compute sound horizon at baryon drag rs_d\n",
    "        rd = rs_drag * self.rs_rescale\n",
    "\n",
    "        # Compute theoretical predictions\n",
    "        theo_DM_rdfid_by_rd_in_Mpc = DM_at_z_values / rd * self.rd_fid_in_Mpc\n",
    "        theo_H_rd_by_rdfid = H_at_z_values * rd / self.rd_fid_in_Mpc\n",
    "\n",
    "        # Compute differences with observations\n",
    "        DM_diff = tf.transpose(theo_DM_rdfid_by_rd_in_Mpc - self.DM_rdfid_by_rd_in_Mpc)\n",
    "        H_diff = tf.transpose(theo_H_rd_by_rdfid - self.H_rd_by_rdfid_in_km_per_s_per_Mpc)\n",
    "\n",
    "        # Stack DM_diff and H_diff into a single array\n",
    "        data_array = tf.transpose(tf.dynamic_stitch([[0,2,4],[1,3,5]], [DM_diff, H_diff]))\n",
    "\n",
    "        # Compute chi squared\n",
    "        chi2 = tf.reduce_sum(tf.multiply(tf.tensordot(data_array, self.inv_cov_data,1), data_array), 1)\n",
    "        \n",
    "        # Return ln(L)\n",
    "        loglkl = -0.5 * chi2\n",
    "        \n",
    "        return loglkl"
   ]
  },
  {
   "cell_type": "markdown",
   "id": "289aa61a-11c0-4fe0-a25d-d76f6af5407e",
   "metadata": {},
   "source": [
    "BAO CLASS"
   ]
  },
  {
   "cell_type": "code",
   "execution_count": 5,
   "id": "abf887e9-b765-4104-9ef5-341ed9961a07",
   "metadata": {
    "jupyter": {
     "source_hidden": true
    }
   },
   "outputs": [],
   "source": [
    "class Bao():\n",
    "\n",
    "    # initialization routine\n",
    "\n",
    "    def __init__(self):\n",
    "\n",
    "        # Set path to datafile (Hardcoded paths would be avoided for general implementation)\n",
    "        self.data_directory = '/home/lucajn/connect/resources/montepython_public/data/'\n",
    "        self.file = 'bao_2012.txt'\n",
    "        self.rs_rescale = 153.017 / 149.0808 # From tf_bao.data file\n",
    "        \n",
    "        # define array for values of z and data points\n",
    "        self.z = np.array([], 'float64')\n",
    "        self.data = np.array([], 'float64')\n",
    "        self.error = np.array([], 'float64')\n",
    "        self.type = np.array([], 'int')\n",
    "\n",
    "        # read redshifts and data points\n",
    "        for line in open(os.path.join(\n",
    "                self.data_directory, self.file), 'r'):\n",
    "            if (line.find('#') == -1):\n",
    "                self.z = np.append(self.z, float(line.split()[0]))\n",
    "                self.data = np.append(self.data, float(line.split()[1]))\n",
    "                self.error = np.append(self.error, float(line.split()[2]))\n",
    "                self.type = np.append(self.type, int(line.split()[3]))\n",
    "\n",
    "        # number of data points\n",
    "        self.num_points = np.shape(self.z)[0]\n",
    "\n",
    "        # end of initialization\n",
    "\n",
    "    # compute likelihood\n",
    "\n",
    "    def loglkl(self, data):\n",
    "\n",
    "        chi2 = 0.\n",
    "        cosmo = Class()\n",
    "        self.input_names = ['omega_b', 'omega_cdm', 'H0', 'ln10^{10}A_s', 'n_s', 'tau_reio']\n",
    "        self.params = dict(zip(self.input_names, data))\n",
    "\n",
    "        # Extra input parameters to CLASS\n",
    "        extra_input = {\n",
    "            'k_pivot': 0.05,\n",
    "            'N_ur': 2.0328,\n",
    "            'N_ncdm': 1,\n",
    "            'm_ncdm': 0.06,\n",
    "            'T_ncdm': 0.71611,\n",
    "        }\n",
    "\n",
    "        # Add the extra input to self.params\n",
    "        self.params.update(extra_input)\n",
    "        \n",
    "        cosmo.set(self.params)\n",
    "        cosmo.compute()\n",
    "        \n",
    "        # for each point, compute angular distance da, radial distance dr,\n",
    "        # volume distance dv, sound horizon at baryon drag rs_d,\n",
    "        # theoretical prediction and chi2 contribution\n",
    "        for i in range(self.num_points):\n",
    "\n",
    "            da = cosmo.angular_distance(self.z[i])\n",
    "            dr = self.z[i] / cosmo.Hubble(self.z[i])\n",
    "            dv = pow(da * da * (1 + self.z[i]) * (1 + self.z[i]) * dr, 1. / 3.)\n",
    "\n",
    "            if (self.type[i] == 3):\n",
    "                rs = cosmo.rs_drag() * self.rs_rescale\n",
    "                theo = dv / rs\n",
    "\n",
    "            elif (self.type[i] == 4):\n",
    "                theo = dv\n",
    "\n",
    "            else:\n",
    "                raise io_mp.LikelihoodError(\n",
    "                    \"In likelihood %s. \" % self.name +\n",
    "                    \"BAO data type %s \" % self.type[i] +\n",
    "                    \"in %d-th line not understood\" % i)\n",
    "\n",
    "            chi2 += ((theo - self.data[i]) / self.error[i]) ** 2\n",
    "\n",
    "        # return ln(L)\n",
    "        lkl = - 0.5 * chi2\n",
    "\n",
    "        return lkl"
   ]
  },
  {
   "cell_type": "markdown",
   "id": "24eaea1e-9362-4773-be9c-df1d3885928f",
   "metadata": {},
   "source": [
    "BAO_BOSS CLASS"
   ]
  },
  {
   "cell_type": "code",
   "execution_count": 6,
   "id": "2ad5258d-2c37-400f-b1fb-1d7a3e12a04e",
   "metadata": {
    "jupyter": {
     "source_hidden": true
    }
   },
   "outputs": [],
   "source": [
    "class Bao_boss():\n",
    "\n",
    "    # initialization routine\n",
    "\n",
    "    def __init__(self):\n",
    "\n",
    "        # Set path to datafile (Hardcoded paths would be avoided for general implementation)\n",
    "        self.data_directory = '/home/lucajn/connect/resources/montepython_public/data/'\n",
    "        self.file = 'bao_2014.txt'\n",
    "\n",
    "        # define array for values of z and data points\n",
    "        self.z = np.array([], 'float64')\n",
    "        self.data = np.array([], 'float64')\n",
    "        self.error = np.array([], 'float64')\n",
    "        self.type = np.array([], 'int')\n",
    "\n",
    "        # Read redshifts and data points\n",
    "        with open(os.path.join(self.data_directory, self.file), 'r') as filein:\n",
    "            for line in filein:\n",
    "                if line.strip() and line.find('#') == -1:\n",
    "                    # the first entry of the line is the identifier\n",
    "                    this_line = line.split()\n",
    "                    # insert into array if this id is not manually excluded\n",
    "                    if not hasattr(self, 'exclude') or self.exclude == None or not this_line[0] in self.exclude:\n",
    "                        self.z = np.append(self.z, float(this_line[1]))\n",
    "                        self.data = np.append(self.data, float(this_line[2]))\n",
    "                        self.error = np.append(self.error, float(this_line[3]))\n",
    "                        self.type = np.append(self.type, int(this_line[4]))\n",
    "\n",
    "        # number of data points\n",
    "        self.num_points = np.shape(self.z)[0]\n",
    "\n",
    "        # end of initialization\n",
    "\n",
    "    # compute likelihood\n",
    "\n",
    "    def loglkl(self, data):\n",
    "\n",
    "        chi2 = 0.\n",
    "        cosmo = Class()\n",
    "        self.input_names = ['omega_b', 'omega_cdm', 'H0', 'ln10^{10}A_s', 'n_s', 'tau_reio']\n",
    "        self.params = dict(zip(self.input_names, data))\n",
    "\n",
    "        # Extra input parameters to CLASS\n",
    "        extra_input = {\n",
    "            'k_pivot': 0.05,\n",
    "            'N_ur': 2.0328,\n",
    "            'N_ncdm': 1,\n",
    "            'm_ncdm': 0.06,\n",
    "            'T_ncdm': 0.71611,\n",
    "        }\n",
    "\n",
    "        # Add the extra input to self.params\n",
    "        self.params.update(extra_input)\n",
    "        \n",
    "        cosmo.set(self.params)\n",
    "        cosmo.compute()\n",
    "\n",
    "        # for each point, compute angular distance da, radial distance dr,\n",
    "        # volume distance dv, sound horizon at baryon drag rs_d,\n",
    "        # theoretical prediction and chi2 contribution\n",
    "        for i in range(self.num_points):\n",
    "\n",
    "            da = cosmo.angular_distance(self.z[i])\n",
    "            dr = self.z[i] / cosmo.Hubble(self.z[i])\n",
    "            dv = pow(da * da * (1 + self.z[i]) * (1 + self.z[i]) * dr, 1. / 3.)\n",
    "            rs = cosmo.rs_drag()\n",
    "\n",
    "            if self.type[i] == 3:\n",
    "                theo = dv / rs\n",
    "\n",
    "            elif self.type[i] == 4:\n",
    "                theo = dv\n",
    "\n",
    "            elif self.type[i] == 5:\n",
    "                theo = da / rs\n",
    "\n",
    "            elif self.type[i] == 6:\n",
    "                theo = 1. / cosmo.Hubble(self.z[i]) / rs\n",
    "\n",
    "            elif self.type[i] == 7:\n",
    "                theo = rs / dv\n",
    "            else:\n",
    "                raise io_mp.LikelihoodError(\n",
    "                    \"In likelihood %s. \" % self.name +\n",
    "                    \"BAO data type %s \" % self.type[i] +\n",
    "                    \"in %d-th line not understood\" % i)\n",
    "\n",
    "            chi2 += ((theo - self.data[i]) / self.error[i]) ** 2\n",
    "\n",
    "        # return ln(L)\n",
    "        lkl = - 0.5 * chi2\n",
    "\n",
    "        return lkl\n"
   ]
  },
  {
   "cell_type": "markdown",
   "id": "77be90d5-1b59-475e-872a-6a78fdd2cdd5",
   "metadata": {},
   "source": [
    "BAO_BOSS_DR12 CLASS"
   ]
  },
  {
   "cell_type": "code",
   "execution_count": 7,
   "id": "c2cdb365-23ed-4751-b1b2-334f61eb62bd",
   "metadata": {
    "jupyter": {
     "source_hidden": true
    }
   },
   "outputs": [],
   "source": [
    "class Bao_boss_dr12():\n",
    "\n",
    "    # initialization routine\n",
    "\n",
    "    def __init__(self):\n",
    "\n",
    "        # Set path to datafile (Hardcoded paths would be avoided for general implementation)\n",
    "        self.data_directory = '/home/lucajn/connect/resources/montepython_public/data/COMBINEDDR12_BAO_consensus_dM_Hz/'\n",
    "        self.data_file = 'BAO_consensus_results_dM_Hz.txt'\n",
    "        self.cov_file = 'BAO_consensus_covtot_dM_Hz.txt'\n",
    "        self.rs_rescale, self.rd_fid_in_Mpc = 1. , 147.78\n",
    "\n",
    "        # define arrays for values of z and data points\n",
    "        self.z = np.array([], 'float64')\n",
    "        self.DM_rdfid_by_rd_in_Mpc = np.array([], 'float64')\n",
    "        self.H_rd_by_rdfid_in_km_per_s_per_Mpc = np.array([], 'float64')\n",
    "\n",
    "        # read redshifts and data points\n",
    "        with open(os.path.join(self.data_directory, self.data_file), 'r') as filein:\n",
    "            for i, line in enumerate(filein):\n",
    "                if line.strip() and line.find('#') == -1:\n",
    "                    this_line = line.split()\n",
    "                    # load redshifts and D_M * (r_s / r_s_fid)^-1 in Mpc\n",
    "                    if this_line[1] == 'dM(rsfid/rs)':\n",
    "                        self.z = np.append(self.z, float(this_line[0]))\n",
    "                        self.DM_rdfid_by_rd_in_Mpc = np.append(\n",
    "                            self.DM_rdfid_by_rd_in_Mpc, float(this_line[2]))\n",
    "                    # load H(z) * (r_s / r_s_fid) in km s^-1 Mpc^-1\n",
    "                    elif this_line[1] == 'Hz(rs/rsfid)':\n",
    "                        self.H_rd_by_rdfid_in_km_per_s_per_Mpc = np.append(\n",
    "                            self.H_rd_by_rdfid_in_km_per_s_per_Mpc, float(this_line[2]))\n",
    "\n",
    "        # read covariance matrix\n",
    "        self.cov_data = np.loadtxt(os.path.join(self.data_directory, self.cov_file))\n",
    "\n",
    "        # number of bins\n",
    "        self.num_bins = np.shape(self.z)[0]\n",
    "\n",
    "        # number of data points\n",
    "        self.num_points = np.shape(self.cov_data)[0]\n",
    "\n",
    "        # end of initialization\n",
    "\n",
    "    # compute likelihood\n",
    "\n",
    "    def loglkl(self, data):\n",
    "\n",
    "        cosmo = Class()\n",
    "        self.input_names = ['omega_b', 'omega_cdm', 'H0', 'ln10^{10}A_s', 'n_s', 'tau_reio']\n",
    "        self.params = dict(zip(self.input_names, data))\n",
    "\n",
    "        # Extra input parameters to CLASS\n",
    "        extra_input = {\n",
    "            'k_pivot': 0.05,\n",
    "            'N_ur': 2.0328,\n",
    "            'N_ncdm': 1,\n",
    "            'm_ncdm': 0.06,\n",
    "            'T_ncdm': 0.71611,\n",
    "        }\n",
    "\n",
    "        # Add the extra input to self.params\n",
    "        self.params.update(extra_input)\n",
    "        \n",
    "        cosmo.set(self.params)\n",
    "        cosmo.compute()\n",
    "\n",
    "        # define array for  values of D_M_diff = D_M^th - D_M^obs and H_diff = H^th - H^obs,\n",
    "        # ordered by redshift bin (z=[0.38, 0.51, 0.61]) as following:\n",
    "        # data_array = [DM_diff(z=0.38), H_diff(z=0.38), DM_diff(z=0.51), .., .., ..]\n",
    "        data_array = np.array([], 'float64')\n",
    "\n",
    "        # for each point, compute comoving angular diameter distance D_M = (1 + z) * D_A,\n",
    "        # sound horizon at baryon drag rs_d, theoretical prediction\n",
    "        for i in range(self.num_bins):\n",
    "            DM_at_z = cosmo.angular_distance(self.z[i]) * (1. + self.z[i])\n",
    "            H_at_z = cosmo.Hubble(self.z[i]) * conts.c / 1000.0\n",
    "            rd = cosmo.rs_drag() * self.rs_rescale\n",
    "\n",
    "            theo_DM_rdfid_by_rd_in_Mpc = DM_at_z / rd * self.rd_fid_in_Mpc\n",
    "            theo_H_rd_by_rdfid = H_at_z * rd / self.rd_fid_in_Mpc\n",
    "\n",
    "            # calculate difference between the sampled point and observations\n",
    "            DM_diff = theo_DM_rdfid_by_rd_in_Mpc - self.DM_rdfid_by_rd_in_Mpc[i]\n",
    "            H_diff = theo_H_rd_by_rdfid - self.H_rd_by_rdfid_in_km_per_s_per_Mpc[i]\n",
    "\n",
    "            # save to data array\n",
    "            data_array = np.append(data_array, DM_diff)\n",
    "            data_array = np.append(data_array, H_diff)\n",
    "\n",
    "        # compute chi squared\n",
    "        inv_cov_data = np.linalg.inv(self.cov_data)\n",
    "        chi2 = np.dot(np.dot(data_array,inv_cov_data),data_array)\n",
    "\n",
    "        # return ln(L)\n",
    "        loglkl = - 0.5 * chi2\n",
    "\n",
    "        return loglkl\n"
   ]
  },
  {
   "cell_type": "code",
   "execution_count": 8,
   "id": "9e520b2e-e4c1-47b0-8a54-e46ad7fd9dfe",
   "metadata": {},
   "outputs": [
    {
     "name": "stderr",
     "output_type": "stream",
     "text": [
      "2023-12-17 14:53:49.131438: W tensorflow/stream_executor/platform/default/dso_loader.cc:64] Could not load dynamic library 'libcuda.so.1'; dlerror: libcuda.so.1: cannot open shared object file: No such file or directory; LD_LIBRARY_PATH: /comm/swstack/core/anaconda3/2021.05/lib\n",
      "2023-12-17 14:53:49.131467: W tensorflow/stream_executor/cuda/cuda_driver.cc:263] failed call to cuInit: UNKNOWN ERROR (303)\n",
      "2023-12-17 14:53:49.131498: I tensorflow/stream_executor/cuda/cuda_diagnostics.cc:156] kernel driver does not appear to be running on this host (s96n41.grendel.cscaa.dk): /proc/driver/nvidia/version does not exist\n",
      "2023-12-17 14:53:49.131983: I tensorflow/core/platform/cpu_feature_guard.cc:193] This TensorFlow binary is optimized with oneAPI Deep Neural Network Library (oneDNN) to use the following CPU instructions in performance-critical operations:  AVX2 AVX512F AVX512_VNNI FMA\n",
      "To enable them in other operations, rebuild TensorFlow with the appropriate compiler flags.\n"
     ]
    }
   ],
   "source": [
    "model_name = 'bao_8z_5'\n",
    "\n",
    "tf_bao = TF_bao(model_name)\n",
    "tf_boss = TF_bao_boss(model_name)\n",
    "tf_dr12 = TF_bao_boss_dr12(model_name)\n",
    "\n",
    "bao = Bao()\n",
    "boss = Bao_boss()\n",
    "dr12 = Bao_boss_dr12()"
   ]
  },
  {
   "cell_type": "code",
   "execution_count": 9,
   "id": "442fbdc2-2baa-4fd9-95ea-63dc3ee8ced2",
   "metadata": {},
   "outputs": [],
   "source": [
    "file_names = ['bao_2023-12-05.txt', 'bao_boss_2023-12-05.txt', 'bao_boss_dr12_2023-12-05.txt']\n",
    "start_lines = []\n",
    "for name in file_names:\n",
    "    with open(name, 'r') as file:\n",
    "        total_lines = sum(1 for line in file)\n",
    "    start_lines.append(max(0, total_lines - 1001))\n",
    "\n",
    "# Read the data using pandas and convert to NumPy arrays\n",
    "bao_data = pd.read_csv(file_names[0], delimiter='\\s+', engine='python', skiprows=start_lines[0], usecols=range(1, 8)).to_numpy()\n",
    "bao_boss_data = pd.read_csv(file_names[1], delimiter='\\s+', engine='python', skiprows=start_lines[1], usecols=range(1, 8)).to_numpy()\n",
    "bao_boss_dr12_data = pd.read_csv(file_names[2], delimiter='\\s+', engine='python', skiprows=start_lines[2], usecols=range(1, 8)).to_numpy()\n",
    "\n",
    "# Apply the omega_b scaling fix\n",
    "bao_data[:, 1] *= 0.01\n",
    "bao_boss_data[:, 1] *= 0.01\n",
    "bao_boss_dr12_data[:, 1] *= 0.01\n"
   ]
  },
  {
   "cell_type": "code",
   "execution_count": 10,
   "id": "8382eafa-91c5-42d5-b3bb-89fac18ec703",
   "metadata": {},
   "outputs": [],
   "source": [
    "bao_input = bao_data[:, 1:]\n",
    "boss_input = bao_boss_data[:, 1:]\n",
    "dr12_input = bao_boss_dr12_data[:, 1:]"
   ]
  },
  {
   "cell_type": "code",
   "execution_count": 11,
   "id": "c310a48b-4392-4ed0-9321-d60c43d3cd0b",
   "metadata": {},
   "outputs": [],
   "source": [
    "np_bao_lkls = bao_data[:, 0]\n",
    "np_boss_lkls = bao_boss_data[:, 0]\n",
    "np_dr12_lkls = bao_boss_dr12_data[:, 0]\n",
    "\n",
    "tf_bao_lkls = -tf_bao.loglkl(tf.constant(bao_input))\n",
    "tf_boss_lkls = -tf_boss.loglkl(tf.constant(boss_input))\n",
    "tf_bdr12_lkls = -tf_dr12.loglkl(tf.constant(dr12_input))"
   ]
  },
  {
   "cell_type": "code",
   "execution_count": 12,
   "id": "517c462b-0188-4f12-b3dd-8f7b396b4941",
   "metadata": {},
   "outputs": [
    {
     "data": {
      "image/png": "[encoded data removed]",
      "text/plain": [
       "<Figure size 900x225 with 3 Axes>"
      ]
     },
     "metadata": {},
     "output_type": "display_data"
    },
    {
     "name": "stdout",
     "output_type": "stream",
     "text": [
      "BAO - MAE: 1.1670232197502628e-05, MSE: 2.321596526133618e-10, RMSE: 1.523678656667471e-05\n",
      "BOSS - MAE: 2.21014615817694e-05, MSE: 8.794953654245319e-10, RMSE: 2.9656286642421037e-05\n",
      "DR12 - MAE: 1.2874722415290307e-05, MSE: 2.797848341895559e-10, RMSE: 1.6726769899833016e-05\n"
     ]
    }
   ],
   "source": [
    "def calculate_errors_and_plot_histograms(datasets, dataset_names):\n",
    "    n_datasets = len(datasets)\n",
    "    fig, axes = plt.subplots(1, n_datasets, figsize=(3 * n_datasets, 2.25), sharey=True)\n",
    "\n",
    "    maes, mses, rmses = [], [], []\n",
    "    colors = ['blue', 'green', 'red']\n",
    "    \n",
    "    for i, ((expected_values, computed_values), name) in enumerate(zip(datasets, dataset_names)):\n",
    "        errors = expected_values - computed_values\n",
    "\n",
    "        # Calculate MAE, MSE, and RMSE\n",
    "        mae = np.mean(np.abs(errors))\n",
    "        mse = np.mean(errors ** 2)\n",
    "        rmse = np.sqrt(mse)\n",
    "        std_dev = np.std(errors)\n",
    "        maes.append(mae)\n",
    "        mses.append(mse)\n",
    "        rmses.append(rmse)\n",
    "\n",
    "        # Plot histogram of errors\n",
    "        axes[i].hist(errors, bins=30, alpha=0.7, color=colors[i], label=name)\n",
    "        axes[i].legend(fontsize='medium', loc='upper left')\n",
    "\n",
    "        if i == 0:\n",
    "            axes[i].set_ylabel(\"Frequency\", fontsize='large')\n",
    "\n",
    "        # Add vertical lines for 1-sigma and 2-sigma\n",
    "        mean_error = np.mean(errors)\n",
    "        axes[i].axvline(mean_error, color='k', linestyle='solid', linewidth=2)\n",
    "        axes[i].axvline(mean_error + std_dev, color='k', linestyle='dashed', linewidth=1.5)\n",
    "        axes[i].axvline(mean_error - std_dev, color='k', linestyle='dashed', linewidth=1.5)\n",
    "        axes[i].axvline(mean_error + 2*std_dev, color='k', linestyle='dotted', linewidth=1.5)\n",
    "        axes[i].axvline(mean_error - 2*std_dev, color='k', linestyle='dotted', linewidth=1.5)\n",
    "\n",
    "        # Ticks and labels styling\n",
    "        axes[i].tick_params(direction='in', labelsize='large')\n",
    "        axes[i].xaxis.set_major_formatter(FuncFormatter(lambda x, _: f'{x*1e5:.0f}'))\n",
    "        axes[i].grid(False)\n",
    "        axes[i].set_xlim(-3*std_dev, 3*std_dev)\n",
    "\n",
    "    # Shared x-label\n",
    "    fig.text(0.51, -0.06, r'Error ($\\times 10^{-5}$)', ha='center', fontsize='large')\n",
    "\n",
    "    # Adjust spacing between subplots\n",
    "    plt.subplots_adjust(wspace=0, hspace=0)\n",
    "\n",
    "    plt.tight_layout()\n",
    "\n",
    "    fig.savefig('validation.pdf', bbox_inches='tight')\n",
    "    \n",
    "    plt.show()\n",
    "\n",
    "    return maes, mses, rmses\n",
    "\n",
    "# Usage for different data sets\n",
    "datasets = [(np_bao_lkls, tf_bao_lkls), (np_boss_lkls, tf_boss_lkls), (np_dr12_lkls, tf_bdr12_lkls)]\n",
    "dataset_names = [\"BAO\", \"BOSS\", \"DR12\"]\n",
    "\n",
    "# Calculate errors and plot histograms\n",
    "maes, mses, rmses = calculate_errors_and_plot_histograms(datasets, dataset_names)\n",
    "\n",
    "for name, mae, mse, rmse in zip(dataset_names, maes, mses, rmses):\n",
    "    print(f\"{name} - MAE: {mae}, MSE: {mse}, RMSE: {rmse}\")\n"
   ]
  },
  {
   "cell_type": "code",
   "execution_count": 13,
   "id": "048821b8-4ddc-43f1-8683-0c9e692157b4",
   "metadata": {},
   "outputs": [
    {
     "name": "stdout",
     "output_type": "stream",
     "text": [
      "976 µs ± 11.6 µs per loop (mean ± std. dev. of 7 runs, 1,000 loops each)\n"
     ]
    }
   ],
   "source": [
    "%%timeit\n",
    "-tf_bao.loglkl(tf.constant(bao_input[0:1]))"
   ]
  },
  {
   "cell_type": "code",
   "execution_count": 14,
   "id": "6f1069c3-a65c-49cb-9809-799232190aa0",
   "metadata": {},
   "outputs": [
    {
     "name": "stdout",
     "output_type": "stream",
     "text": [
      "972 µs ± 15.9 µs per loop (mean ± std. dev. of 7 runs, 1,000 loops each)\n"
     ]
    }
   ],
   "source": [
    "%%timeit\n",
    "-tf_boss.loglkl(tf.constant(boss_input[0:1]))"
   ]
  },
  {
   "cell_type": "code",
   "execution_count": 15,
   "id": "52d37d19-f928-4df8-9982-99afeb1a0d52",
   "metadata": {},
   "outputs": [
    {
     "name": "stdout",
     "output_type": "stream",
     "text": [
      "986 µs ± 24.8 µs per loop (mean ± std. dev. of 7 runs, 1,000 loops each)\n"
     ]
    }
   ],
   "source": [
    "%%timeit\n",
    "-tf_dr12.loglkl(tf.constant(dr12_input[0:1]))"
   ]
  },
  {
   "cell_type": "code",
   "execution_count": 16,
   "id": "06ab96e1-8a5c-4a1a-9d00-6cd4c7615f49",
   "metadata": {},
   "outputs": [
    {
     "name": "stdout",
     "output_type": "stream",
     "text": [
      "80.5 ms ± 146 µs per loop (mean ± std. dev. of 7 runs, 10 loops each)\n"
     ]
    }
   ],
   "source": [
    "%%timeit\n",
    "-bao.loglkl(bao_input[0])"
   ]
  },
  {
   "cell_type": "code",
   "execution_count": 17,
   "id": "03291555-2100-4547-8e2a-569aa02d208f",
   "metadata": {},
   "outputs": [
    {
     "name": "stdout",
     "output_type": "stream",
     "text": [
      "79.1 ms ± 146 µs per loop (mean ± std. dev. of 7 runs, 10 loops each)\n"
     ]
    }
   ],
   "source": [
    "%%timeit\n",
    "-boss.loglkl(boss_input[0])"
   ]
  },
  {
   "cell_type": "code",
   "execution_count": 18,
   "id": "9c7f7bb0-aa59-4d4b-87c5-1bfbda7f8f72",
   "metadata": {},
   "outputs": [
    {
     "name": "stdout",
     "output_type": "stream",
     "text": [
      "84.1 ms ± 7.18 ms per loop (mean ± std. dev. of 7 runs, 10 loops each)\n"
     ]
    }
   ],
   "source": [
    "%%timeit\n",
    "-dr12.loglkl(dr12_input[0])"
   ]
  },
  {
   "cell_type": "code",
   "execution_count": 19,
   "id": "8c1e3ff1-6cb6-4bd8-900d-df2db482560c",
   "metadata": {},
   "outputs": [
    {
     "name": "stdout",
     "output_type": "stream",
     "text": [
      "2.98 ms ± 49.3 µs per loop (mean ± std. dev. of 7 runs, 100 loops each)\n"
     ]
    }
   ],
   "source": [
    "%%timeit\n",
    "-tf_bao.loglkl(tf.constant(bao_input[0:32]))"
   ]
  },
  {
   "cell_type": "code",
   "execution_count": 20,
   "id": "b96db1bc-f43e-47cf-9a2d-b639d995c640",
   "metadata": {},
   "outputs": [
    {
     "name": "stdout",
     "output_type": "stream",
     "text": [
      "3.01 ms ± 66.5 µs per loop (mean ± std. dev. of 7 runs, 100 loops each)\n"
     ]
    }
   ],
   "source": [
    "%%timeit\n",
    "-tf_boss.loglkl(tf.constant(boss_input[0:32]))"
   ]
  },
  {
   "cell_type": "code",
   "execution_count": 21,
   "id": "4fb70a2c-eb8f-42ac-ae84-e8565ddf9b63",
   "metadata": {},
   "outputs": [
    {
     "name": "stdout",
     "output_type": "stream",
     "text": [
      "3.09 ms ± 24.5 µs per loop (mean ± std. dev. of 7 runs, 100 loops each)\n"
     ]
    }
   ],
   "source": [
    "%%timeit\n",
    "-tf_dr12.loglkl(tf.constant(dr12_input[0:32]))"
   ]
  },
  {
   "cell_type": "code",
   "execution_count": 22,
   "id": "38af343f-9566-407d-85f1-5f4263614055",
   "metadata": {},
   "outputs": [
    {
     "name": "stdout",
     "output_type": "stream",
     "text": [
      "2.58 s ± 3.01 ms per loop (mean ± std. dev. of 7 runs, 1 loop each)\n"
     ]
    }
   ],
   "source": [
    "%%timeit\n",
    "for i in range(0, 32):\n",
    "    -bao.loglkl(bao_input[i])"
   ]
  },
  {
   "cell_type": "code",
   "execution_count": 23,
   "id": "8d5d50ab-87d8-4358-a512-31f1ecf29cbd",
   "metadata": {},
   "outputs": [
    {
     "name": "stdout",
     "output_type": "stream",
     "text": [
      "2.52 s ± 1.85 ms per loop (mean ± std. dev. of 7 runs, 1 loop each)\n"
     ]
    }
   ],
   "source": [
    "%%timeit\n",
    "for i in range(0, 32):\n",
    "    -boss.loglkl(boss_input[i])"
   ]
  },
  {
   "cell_type": "code",
   "execution_count": 24,
   "id": "764ed67f-1270-4532-b9ff-38823c440ade",
   "metadata": {},
   "outputs": [
    {
     "name": "stdout",
     "output_type": "stream",
     "text": [
      "2.54 s ± 5.1 ms per loop (mean ± std. dev. of 7 runs, 1 loop each)\n"
     ]
    }
   ],
   "source": [
    "%%timeit\n",
    "for i in range(0, 32):\n",
    "    -dr12.loglkl(dr12_input[i])"
   ]
  }
 ],
 "metadata": {
  "kernelspec": {
   "display_name": "Python 3 (ipykernel)",
   "language": "python",
   "name": "python3"
  },
  "language_info": {
   "codemirror_mode": {
    "name": "ipython",
    "version": 3
   },
   "file_extension": ".py",
   "mimetype": "text/x-python",
   "name": "python",
   "nbconvert_exporter": "python",
   "pygments_lexer": "ipython3",
   "version": "3.10.13"
  }
 },
 "nbformat": 4,
 "nbformat_minor": 5
}
